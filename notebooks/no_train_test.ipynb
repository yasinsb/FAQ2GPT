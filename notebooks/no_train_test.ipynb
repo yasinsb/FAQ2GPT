{
 "cells": [
  {
   "cell_type": "code",
   "execution_count": 1,
   "metadata": {},
   "outputs": [],
   "source": [
    "import openai\n",
    "import os\n",
    "import json\n",
    "\n",
    "openapi_key = open('../keys/openapi.key', 'r').read().strip()\n",
    "openai.api_key = openapi_key\n",
    "\n"
   ]
  },
  {
   "cell_type": "code",
   "execution_count": 7,
   "metadata": {},
   "outputs": [],
   "source": [
    "\n",
    "\n",
    "\n",
    "def ask_bot(question, faq_data):\n",
    "    # Start with the system message to set the context\n",
    "    messages = [\n",
    "        {\n",
    "            \"role\": \"system\",\n",
    "            \"content\": \"You are the AI customer support bot for Intergalactic Transit Commission (ITC), providing information about space travel services, bookings, safety protocols, and more. Answer questions accurately and professionally, in line with ITC's offerings.\"\n",
    "        }\n",
    "    ]\n",
    "\n",
    "    # Add the FAQ questions and answers as user and assistant messages\n",
    "    for qa in faq_data['questions']:\n",
    "        messages.append({\"role\": \"user\", \"content\": qa['question']})\n",
    "        messages.append({\"role\": \"assistant\", \"content\": qa['answer']})\n",
    "\n",
    "    # Add the new question as a user message\n",
    "    messages.append({\"role\": \"user\", \"content\": question})\n",
    "\n",
    "    # Call the GPT-3.5-turbo model with the messages\n",
    "    response = openai.ChatCompletion.create(\n",
    "        model=\"gpt-3.5-turbo\",\n",
    "        messages=messages\n",
    "    )\n",
    "\n",
    "    # Extract and return the answer text\n",
    "    answer = response.choices[0]\n",
    "    return answer"
   ]
  },
  {
   "cell_type": "code",
   "execution_count": 8,
   "metadata": {},
   "outputs": [],
   "source": [
    "\n",
    "\n",
    "# Initialize an empty list to hold all the questions and answers\n",
    "faq_data = {\n",
    "    \"questions\": []\n",
    "}\n",
    "\n",
    "# Path to the \"train_data\" folder\n",
    "train_data_path = \"../train_data\"\n",
    "\n",
    "# Iterate through all the JSON files in the \"train_data\" folder\n",
    "for filename in os.listdir(train_data_path):\n",
    "    if filename.endswith(\".json\"):\n",
    "        file_path = os.path.join(train_data_path, filename)\n",
    "        \n",
    "        # Open and read the JSON file\n",
    "        with open(file_path, 'r') as file:\n",
    "            faq_file_data = json.load(file)\n",
    "            \n",
    "            # Append the questions and answers from this file to the main list\n",
    "            faq_data['questions'].extend(faq_file_data['questions'])\n"
   ]
  },
  {
   "cell_type": "code",
   "execution_count": 43,
   "metadata": {},
   "outputs": [],
   "source": [
    "\n",
    "# Now you can use the combined faq_data with the ask_bot function\n",
    "question = \"Hello. I want to book a trip but I have a question first. Can I bring my pet Wookiee on the cruise?\"\n",
    "response_obj = ask_bot(question, faq_data)\n",
    "response = response_obj[\"message\"][\"content\"]\n"
   ]
  },
  {
   "cell_type": "code",
   "execution_count": 44,
   "metadata": {},
   "outputs": [],
   "source": [
    "from IPython.display import display, Markdown, HTML"
   ]
  },
  {
   "cell_type": "code",
   "execution_count": 45,
   "metadata": {},
   "outputs": [
    {
     "data": {
      "text/html": [
       "\n",
       "<p style=\"color: lightblue; font-size: 18px;\"><strong>Question:</strong> Hello. I want to book a trip but I have a question first. Can I bring my pet Wookiee on the cruise?</p>\n",
       "<p style=\"color: lightgreen; font-size: 18px;\"><strong>Answer:</strong> Greetings! While we celebrate the diversity of species on Starship Cruises, we have specific guidelines for passenger safety. Due to the potential challenges in accommodating large and powerful creatures, we kindly request that you leave your pet Wookiee in the care of a trusted guardian. We offer specialized pet accommodations for smaller beings and droids that meet our guidelines. Feel free to contact our Galactic Concierge for further assistance and recommendations for your furry or robotic companion.</p>\n"
      ],
      "text/plain": [
       "<IPython.core.display.HTML object>"
      ]
     },
     "metadata": {},
     "output_type": "display_data"
    }
   ],
   "source": [
    "html_text = f\"\"\"\n",
    "<p style=\"color: lightblue; font-size: 18px;\"><strong>Question:</strong> {question}</p>\n",
    "<p style=\"color: lightgreen; font-size: 18px;\"><strong>Answer:</strong> {response}</p>\n",
    "\"\"\"\n",
    "\n",
    "\n",
    "# Display the HTML string\n",
    "display(HTML(html_text))"
   ]
  },
  {
   "cell_type": "code",
   "execution_count": 46,
   "metadata": {},
   "outputs": [],
   "source": [
    "question = \"What's your return policy in case of a wormhole delay\"\n",
    "response_obj = ask_bot(question, faq_data)\n",
    "response = response_obj[\"message\"][\"content\"]\n"
   ]
  },
  {
   "cell_type": "code",
   "execution_count": 47,
   "metadata": {},
   "outputs": [
    {
     "data": {
      "text/html": [
       "\n",
       "<p style=\"color: lightblue; font-size: 18px;\"><strong>Question:</strong> What's your return policy in case of a wormhole delay</p>\n",
       "<p style=\"color: lightgreen; font-size: 18px;\"><strong>Answer:</strong> While wormhole delays are rare, we understand that they can disrupt travel plans. In the event of a wormhole delay exceeding 24 standard galactic hours, we offer options for refunds, rescheduling, or alternative travel arrangements. Our Customer Support Droids are here to assist and ensure your journey is back on track.</p>\n"
      ],
      "text/plain": [
       "<IPython.core.display.HTML object>"
      ]
     },
     "metadata": {},
     "output_type": "display_data"
    }
   ],
   "source": [
    "html_text = f\"\"\"\n",
    "<p style=\"color: lightblue; font-size: 18px;\"><strong>Question:</strong> {question}</p>\n",
    "<p style=\"color: lightgreen; font-size: 18px;\"><strong>Answer:</strong> {response}</p>\n",
    "\"\"\"\n",
    "\n",
    "\n",
    "# Display the HTML string\n",
    "display(HTML(html_text))"
   ]
  },
  {
   "cell_type": "code",
   "execution_count": null,
   "metadata": {},
   "outputs": [],
   "source": []
  }
 ],
 "metadata": {
  "kernelspec": {
   "display_name": "f2g-dev",
   "language": "python",
   "name": "python3"
  },
  "language_info": {
   "codemirror_mode": {
    "name": "ipython",
    "version": 3
   },
   "file_extension": ".py",
   "mimetype": "text/x-python",
   "name": "python",
   "nbconvert_exporter": "python",
   "pygments_lexer": "ipython3",
   "version": "3.10.12"
  },
  "orig_nbformat": 4
 },
 "nbformat": 4,
 "nbformat_minor": 2
}
